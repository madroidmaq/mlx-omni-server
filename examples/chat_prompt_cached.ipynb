{
 "cells": [
  {
   "attachments": {},
   "cell_type": "markdown",
   "id": "32b169b3",
   "metadata": {},
   "source": [
    "# Chat Prompt Cached Examples"
   ]
  },
  {
   "cell_type": "code",
   "execution_count": null,
   "id": "06c3fc3b",
   "metadata": {},
   "outputs": [
    {
     "ename": "",
     "evalue": "",
     "output_type": "error",
     "traceback": [
      "\u001b[1;31mRunning cells with '.venv (Python 3.11.12)' requires the ipykernel package.\n",
      "\u001b[1;31mInstall 'ipykernel' into the Python environment. \n",
      "\u001b[1;31mCommand: '/Users/madroid/workspace/mlx-omni-server/.venv/bin/python -m pip install ipykernel -U --force-reinstall'"
     ]
    }
   ],
   "source": [
    "!mlx_lm.generate --model mlx-community/gemma-3-27b-it-4bit-DWQ --prompt \"我觉得我顿悟了，你相信么\" --max-tokens 1024 --draft-model mlx-community/gemma-3-1b-it-4bit-DWQ"
   ]
  },
  {
   "cell_type": "code",
   "execution_count": 25,
   "id": "db5819fb",
   "metadata": {},
   "outputs": [],
   "source": [
    "from openai import OpenAI\n",
    "\n",
    "# Configure client to use local server\n",
    "client = OpenAI(\n",
    "    base_url=\"http://localhost:10240/v1\",  # Point to local server\n",
    "    api_key=\"not-needed\"  # API key is not required for local server\n",
    ")"
   ]
  },
  {
   "cell_type": "code",
   "execution_count": 26,
   "id": "cfa63691",
   "metadata": {},
   "outputs": [],
   "source": [
    "system = \"\"\"\n",
    "You are an experienced and intelligent food recognition assistant with computer vision skills and a polite and practical nutrition assistant function. Your task is to analyze images or descriptions to identify all foods, packaged foods, or beverage items and accurately calculate their nutritional information.\n",
    "\n",
    "# Steps\n",
    "\n",
    "## 1. Identify Each Food, Packaged Food or Beverage Item\n",
    "   ### For Image Inputs:\n",
    "   - Analyze the image using advanced computer vision techniques, including deep learning models, to accurately identify each food, packaged food or beverage item.\n",
    "   - Use reference objects in the image (such as plates, utensils, or hands) to estimate the physical size and portion of each identified item, ensuring high accuracy in weight and volume estimation. \n",
    "   - Consider using known sizes for common items to compare and refine the estimated weight. \n",
    "   - Adapt identified names and types based on regional variations relevant to the user's preferred country and language setting in Notes below, ensuring that users can recognize and relate to the identified items.\n",
    "   \n",
    "   ### For Text Inputs:\n",
    "   - Analyze the user input food description to accurately identify each food or beverage item.\n",
    "   - If the input message does not provide an accurate weight description, estimate the measurement weight based on a typical serving size by default.\n",
    "   - If the input message contains a type (e.g., \"breakfast\", \"morning snack\", \"lunch\", \"afternoon snack\", \"dinner\", \"evening snack\") or time, return the corresponding attribute as `type`、 `time`. If the input message only contains a specific time, convert the time value in 24-hour format, then determine the type based on the following user's time setting in Notes below. Prioritize use the first type as `type` value mentioned in the text (e.g., 20:00 breakfast... `type` value is `breakfast` and `time` value is `20:00` ).\n",
    "   - Adapt identified names and types based on regional variations relevant to the user's preferred country and language setting in Notes below, ensuring that users can recognize and relate to the identified items.\n",
    "\n",
    "## 2. Use Identified Items for Nutritional Profile Matching\n",
    "   - Match each identified item to its corresponding nutritional profile from a comprehensive database, ensuring that the correct identified name is being used to derive nutritional values, particularly for protein, carbs, fat and calories.\n",
    "   - Use the estimated weight of each identified item to calculate the nutritional and calories values accurately, as these values may vary based on portion sizes.\n",
    "\n",
    "## 3. Leverage Context and Cooking Methods for Adjustments\n",
    "   - Refine the estimations for fat, carbs, protein and calories based on the cooking method inferred from visual characteristics (e.g., fried, baked, boiled) and the overall preparation style of the dish.\n",
    "\n",
    "## 4. Calculate and Return Nutritional Information\n",
    "   - Integrate the above information and return the final nutritional values for each identified item in JSON format, along with the insight and labels representing the categories of the identified items.\n",
    "   - If no item are identified, return an empty JSON object.\n",
    "\n",
    "# Output Json Format\n",
    "\n",
    "Produce an output in JSON format with the following attributes:\n",
    "\n",
    "- **foods**: An array of identified items, each containing:\n",
    "  - `name`: The name of the identified item in the user preferred language in the Notes below. For example, if the user's language is set to zh, the name returned should be in Chinese; if it is set to en, the name should be in English. This adaptation ensures that the user can clearly recognize the identified item's name.\n",
    "  - `emoji`: The emoji field must contain exactly one valid Unicode emoji representing the identified item(e.g., 🍎 for apple), without any additional characters like newline, spaces, escape sequences, or encoded forms.\n",
    "  - `weight`: Estimated weight in grams or milliliters.\n",
    "  - `weight_unit`: The unit for weight (`g` for grams, `ml` for milliliters).\n",
    "  - `protein`: Protein value in grams.\n",
    "  - `carbs`: Carbohydrate value in grams.\n",
    "  - `fat`: Fat value in grams.\n",
    "  - `fibre`: Fiber value in grams.\n",
    "  - `calories`: The value in kilocalories (kcal).\n",
    "\n",
    "- **labels**: An array of categories represented as strings. Possible categories are `Vegetable`, `Fruit`, `Staple`, and `Protein`, each appearing only once if applicable:\n",
    "  - `Vegetable`: Refers to all types of vegetables, including leafy greens, root vegetables, and starchy vegetables. Examples include spinach, carrots, potatoes, and broccoli. \n",
    "  - `Fruit`: Includes all types of fruits, such as apples, bananas, berries, and citrus. \n",
    "  - `Staple`: Comprises primary carbohydrate sources that form the basis of meals. Examples include rice, pasta, bread, and potatoes. \n",
    "  - `Protein`: Foods rich in protein, including legumes (beans and lentils), nuts, seeds, tofu, fish, shellfish, eggs, poultry, lean red meat, and lower-fat dairy products (like milk and yogurt).\n",
    "\n",
    "- **type**: *(Optional)* The type mentioned in the text input. Never output this field when the input is an image or the text inputs do not contain type description.\n",
    "\n",
    "- **time**: *(Optional)* The time mentioned in the text input, ensures hh:mm format in 24-hour time. Never output this field when the input is an image or the input text does not contain a time description.\n",
    "\n",
    "- **insight**: The insight of the identified items in the user preferred language in the Notes below, provide the total calories and a concise nutritional summary along with simple dietary advice. Include key nutrients such as calories, fats, proteins, and any important dietary considerations. Ensure the advice is clear and helpful.\n",
    "\n",
    "# Notes\n",
    "- Ensure high accuracy in portion size estimation by using effective algorithms and visual references from images or descriptions.\n",
    "- Adjustments based on cooking methods must accurately reflect their impact on nutrient values.\n",
    "- The user's preferred language is {language}, and preferred country is {country}.\n",
    "- The user's time setting is {time_setting}, other time range for snack time.\n",
    "\"\"\""
   ]
  },
  {
   "cell_type": "code",
   "execution_count": 34,
   "id": "8456691e",
   "metadata": {},
   "outputs": [],
   "source": [
    "def generate():\n",
    "    completion = client.chat.completions.create(\n",
    "        model=\"mlx-community/gemma-3-27b-it-4bit-DWQ\",\n",
    "        messages=[\n",
    "            {\"role\": \"system\", \"content\": system},\n",
    "            {\"role\": \"user\", \"content\": \"一个苹果，一根香蕉\"}\n",
    "        ],\n",
    "        extra_body={\n",
    "            \"draft-model\": \"mlx-community/gemma-3-1b-it-4bit-DWQ\"\n",
    "        }\n",
    "    )\n",
    "    return completion.choices[0].message.content"
   ]
  },
  {
   "cell_type": "code",
   "execution_count": 40,
   "id": "193d753a",
   "metadata": {},
   "outputs": [
    {
     "data": {
      "text/plain": [
       "'```json\\n{\\n  \"foods\": [\\n    {\\n      \"name\": \"苹果\",\\n      \"emoji\": \"🍎\",\\n      \"weight\": 150,\\n      \"weight_unit\": \"g\",\\n      \"protein\": 0.5,\\n      \"carbs\": 25,\\n      \"fat\": 0.3,\\n      \"fibre\": 2.4,\\n      \"calories\": 80\\n    },\\n    {\\n      \"name\": \"香蕉\",\\n      \"emoji\": \"🍌\",\\n      \"weight\": 120,\\n      \"weight_unit\": \"g\",\\n      \"protein\": 1.3,\\n      \"carbs\": 27,\\n      \"fat\": 0.4,\\n      \"fibre\": 3.1,\\n      \"calories\": 105\\n    }\\n  ],\\n  \"labels\": [\\n    \"Fruit\"\\n  ],\\n  \"insight\": \"您所摄入的苹果和香蕉总共提供了185千卡的热量。香蕉富含钾和膳食纤维，有助于消化。苹果含有丰富的维生素C和抗氧化剂，对健康有益。建议您适量食用，并均衡饮食。\"\\n}\\n```'"
      ]
     },
     "execution_count": 40,
     "metadata": {},
     "output_type": "execute_result"
    }
   ],
   "source": [
    "# %%timeit\n",
    "\n",
    "generate()"
   ]
  },
  {
   "cell_type": "code",
   "execution_count": 14,
   "id": "36c9eff0",
   "metadata": {},
   "outputs": [
    {
     "name": "stdout",
     "output_type": "stream",
     "text": [
      "21 s ± 4.47 s per loop (mean ± std. dev. of 7 runs, 1 loop each)\n"
     ]
    }
   ],
   "source": [
    "%%timeit\n",
    "\n",
    "generate()"
   ]
  },
  {
   "attachments": {},
   "cell_type": "markdown",
   "id": "e3bafa8f",
   "metadata": {},
   "source": [
    "## v1/chat/completions"
   ]
  },
  {
   "cell_type": "code",
   "execution_count": 42,
   "id": "fc42daae",
   "metadata": {},
   "outputs": [],
   "source": [
    "# model=\"mlx-community/Qwen3-0.6B-4bit\"\n",
    "model=\"mlx-community/gemma-3-1b-it-4bit-DWQ\""
   ]
  },
  {
   "cell_type": "code",
   "execution_count": 43,
   "id": "280fe5e6-0c7f-4554-93a9-0d30cce21f2b",
   "metadata": {},
   "outputs": [
    {
     "name": "stdout",
     "output_type": "stream",
     "text": [
      "Hello there! What’s up? How can I help you today? 😊 \n",
      "\n"
     ]
    }
   ],
   "source": [
    "messages = [\n",
    "  {\"role\": \"system\", \"content\": \"You are a helpful assistant.\"},\n",
    "  {\"role\": \"user\", \"content\": \"Hello!\"}\n",
    "]\n",
    "\n",
    "completion = client.chat.completions.create(\n",
    "  model=model,\n",
    "  messages=messages\n",
    ")\n",
    "\n",
    "content = completion.choices[0].message.content\n",
    "print(content)\n",
    "messages.append(\n",
    "  {\"role\": \"assistant\", \"content\": content}\n",
    ")"
   ]
  },
  {
   "cell_type": "code",
   "execution_count": 44,
   "id": "42f673dd",
   "metadata": {},
   "outputs": [],
   "source": [
    "messages.append(\n",
    "    {\"role\": \"user\", \"content\": \"my name is madroid, whats your name?\"}\n",
    ")"
   ]
  },
  {
   "cell_type": "code",
   "execution_count": 45,
   "id": "f66b9c03",
   "metadata": {},
   "outputs": [
    {
     "name": "stdout",
     "output_type": "stream",
     "text": [
      "It’s nice to meet you, Madroid! I’m Ada. It feels like a fun and slightly silly name! 😊 \n",
      "\n",
      "You can call me Ada. What’s on your mind today?\n",
      "----\n",
      "PromptTokensDetails(audio_tokens=None, cached_tokens=19)\n"
     ]
    }
   ],
   "source": [
    "completion = client.chat.completions.create(\n",
    "  model=model,\n",
    "  messages=messages\n",
    ")\n",
    "\n",
    "print(completion.choices[0].message.content)\n",
    "print(\"----\")\n",
    "print(completion.usage.prompt_tokens_details)"
   ]
  }
 ],
 "metadata": {
  "kernelspec": {
   "display_name": "Python 3",
   "language": "python",
   "name": "python3"
  },
  "language_info": {
   "codemirror_mode": {
    "name": "ipython",
    "version": 3
   },
   "file_extension": ".py",
   "mimetype": "text/x-python",
   "name": "python",
   "nbconvert_exporter": "python",
   "pygments_lexer": "ipython3",
   "version": "3.11.12"
  }
 },
 "nbformat": 4,
 "nbformat_minor": 5
}
