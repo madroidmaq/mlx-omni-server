{
 "cells": [
  {
   "attachments": {},
   "cell_type": "markdown",
   "id": "32b169b3",
   "metadata": {},
   "source": [
    "# Chat Prompt Cached Examples"
   ]
  },
  {
   "cell_type": "code",
   "execution_count": 1,
   "id": "db5819fb",
   "metadata": {},
   "outputs": [],
   "source": [
    "from openai import OpenAI\n",
    "\n",
    "# Configure client to use local server\n",
    "client = OpenAI(\n",
    "    base_url=\"http://localhost:10240/v1\",  # Point to local server\n",
    "    api_key=\"not-needed\"  # API key is not required for local server\n",
    ")"
   ]
  },
  {
   "attachments": {},
   "cell_type": "markdown",
   "id": "e3bafa8f",
   "metadata": {},
   "source": [
    "## v1/chat/completions"
   ]
  },
  {
   "cell_type": "code",
   "execution_count": 42,
   "id": "fc42daae",
   "metadata": {},
   "outputs": [],
   "source": [
    "# model=\"mlx-community/Qwen3-0.6B-4bit\"\n",
    "model=\"mlx-community/gemma-3-1b-it-4bit-DWQ\""
   ]
  },
  {
   "cell_type": "code",
   "execution_count": 43,
   "id": "280fe5e6-0c7f-4554-93a9-0d30cce21f2b",
   "metadata": {},
   "outputs": [
    {
     "name": "stdout",
     "output_type": "stream",
     "text": [
      "Hello there! What’s up? How can I help you today? 😊 \n",
      "\n"
     ]
    }
   ],
   "source": [
    "messages = [\n",
    "  {\"role\": \"system\", \"content\": \"You are a helpful assistant.\"},\n",
    "  {\"role\": \"user\", \"content\": \"Hello!\"}\n",
    "]\n",
    "\n",
    "completion = client.chat.completions.create(\n",
    "  model=model,\n",
    "  messages=messages\n",
    ")\n",
    "\n",
    "content = completion.choices[0].message.content\n",
    "print(content)\n",
    "messages.append(\n",
    "  {\"role\": \"assistant\", \"content\": content}\n",
    ")"
   ]
  },
  {
   "cell_type": "code",
   "execution_count": 44,
   "id": "42f673dd",
   "metadata": {},
   "outputs": [],
   "source": [
    "messages.append(\n",
    "    {\"role\": \"user\", \"content\": \"my name is madroid, whats your name?\"}\n",
    ")"
   ]
  },
  {
   "cell_type": "code",
   "execution_count": 45,
   "id": "f66b9c03",
   "metadata": {},
   "outputs": [
    {
     "name": "stdout",
     "output_type": "stream",
     "text": [
      "It’s nice to meet you, Madroid! I’m Ada. It feels like a fun and slightly silly name! 😊 \n",
      "\n",
      "You can call me Ada. What’s on your mind today?\n",
      "----\n",
      "PromptTokensDetails(audio_tokens=None, cached_tokens=19)\n"
     ]
    }
   ],
   "source": [
    "completion = client.chat.completions.create(\n",
    "  model=model,\n",
    "  messages=messages\n",
    ")\n",
    "\n",
    "print(completion.choices[0].message.content)\n",
    "print(\"----\")\n",
    "print(completion.usage.prompt_tokens_details)"
   ]
  }
 ],
 "metadata": {
  "kernelspec": {
   "display_name": ".venv",
   "language": "python",
   "name": "python3"
  },
  "language_info": {
   "codemirror_mode": {
    "name": "ipython",
    "version": 3
   },
   "file_extension": ".py",
   "mimetype": "text/x-python",
   "name": "python",
   "nbconvert_exporter": "python",
   "pygments_lexer": "ipython3",
   "version": "3.11.12"
  }
 },
 "nbformat": 4,
 "nbformat_minor": 5
}
