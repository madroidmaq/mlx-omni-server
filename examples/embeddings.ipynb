{
 "cells": [
  {
   "cell_type": "markdown",
   "id": "01c4198a",
   "metadata": {},
   "source": [
    "# MLX Omni Server: Embeddings API Example\n",
    "\n",
    "This notebook demonstrates how to use the OpenAI-compatible Embeddings API endpoint with MLX Omni Server.\n",
    "\n",
    "With MLX Omni Server, you can generate embeddings locally on your Apple Silicon device using a variety of models."
   ]
  },
  {
   "cell_type": "markdown",
   "id": "29536289",
   "metadata": {},
   "source": [
    "## Setup\n",
    "\n",
    "First, let's import the OpenAI client and configure it to use our local MLX Omni Server instance."
   ]
  },
  {
   "cell_type": "code",
   "execution_count": 7,
   "id": "f721cccf",
   "metadata": {},
   "outputs": [],
   "source": [
    "from openai import OpenAI\n",
    "import numpy as np\n",
    "from sklearn.metrics.pairwise import cosine_similarity\n",
    "import pandas as pd\n",
    "import matplotlib.pyplot as plt\n",
    "%matplotlib inline\n",
    "\n",
    "# Configure client to use local server\n",
    "client = OpenAI(\n",
    "    base_url=\"http://localhost:10240/v1\",  # Point to local server\n",
    "    api_key=\"not-needed\",  # API key is not required for local server\n",
    ")"
   ]
  },
  {
   "cell_type": "markdown",
   "id": "43f5b561",
   "metadata": {},
   "source": [
    "## Generate Embeddings for a Single Text\n",
    "\n",
    "Let's start by generating embeddings for a single piece of text."
   ]
  },
  {
   "cell_type": "code",
   "execution_count": 8,
   "id": "db22f01f",
   "metadata": {},
   "outputs": [
    {
     "name": "stdout",
     "output_type": "stream",
     "text": [
      "Response type: <class 'openai.types.create_embedding_response.CreateEmbeddingResponse'>\n",
      "Model used: mlx-community/all-MiniLM-L6-v2-4bit\n",
      "Embedding dimension: 384\n"
     ]
    }
   ],
   "source": [
    "# Generate embedding for a single text\n",
    "response = client.embeddings.create(\n",
    "    model=\"mlx-community/all-MiniLM-L6-v2-4bit\", input=\"I like reading\"\n",
    ")\n",
    "\n",
    "# Examine the response structure\n",
    "print(f\"Response type: {type(response)}\")\n",
    "print(f\"Model used: {response.model}\")\n",
    "print(f\"Embedding dimension: {len(response.data[0].embedding)}\")"
   ]
  },
  {
   "cell_type": "markdown",
   "id": "03c7b451",
   "metadata": {},
   "source": [
    "## v1/chat/embeddings"
   ]
  },
  {
   "cell_type": "markdown",
   "id": "f26f7bfc",
   "metadata": {},
   "source": [
    "### Testing Embeddings API with Curl\n",
    "\n",
    "You can directly test the embeddings endpoint using curl, as follows:\n",
    "\n",
    "```shell\n",
    "curl http://localhost:10240/v1/embeddings \\\n",
    "  -H \"Content-Type: application/json\" \\\n",
    "  -d '{\n",
    "    \"model\": \"mlx-community/all-MiniLM-L6-v2-4bit\",\n",
    "    \"input\": [\"Hello world!\", \"Embeddings are useful for semantic search.\"]\n",
    "  }'\n",
    "```\n",
    "\n",
    "This will return a JSON response with the embeddings for each input text."
   ]
  },
  {
   "cell_type": "markdown",
   "id": "445b582d",
   "metadata": {},
   "source": [
    "### Visualize a Few Dimensions of the Embedding"
   ]
  },
  {
   "cell_type": "code",
   "execution_count": 9,
   "id": "b0069afe",
   "metadata": {},
   "outputs": [
    {
     "data": {
      "image/png": "[encoded data removed]",
      "text/plain": [
       "<Figure size 1000x300 with 1 Axes>"
      ]
     },
     "metadata": {},
     "output_type": "display_data"
    }
   ],
   "source": [
    "# Visualize first 10 dimensions of the embedding\n",
    "embedding = response.data[0].embedding[:10]\n",
    "plt.figure(figsize=(10, 3))\n",
    "plt.bar(range(len(embedding)), embedding)\n",
    "plt.title(\"First 10 dimensions of the embedding\")\n",
    "plt.xlabel(\"Dimension\")\n",
    "plt.ylabel(\"Value\")\n",
    "plt.show()"
   ]
  },
  {
   "cell_type": "markdown",
   "id": "6e3c9321",
   "metadata": {},
   "source": [
    "## Generate Embeddings for Multiple Texts\n",
    "\n",
    "The API can efficiently generate embeddings for multiple texts in a single request."
   ]
  },
  {
   "cell_type": "code",
   "execution_count": 10,
   "id": "7237fd2e",
   "metadata": {},
   "outputs": [
    {
     "name": "stdout",
     "output_type": "stream",
     "text": [
      "Generated 4 embeddings of dimension 384\n"
     ]
    }
   ],
   "source": [
    "# Multiple texts to embed\n",
    "texts = [\n",
    "    \"I like reading fiction books.\",\n",
    "    \"The weather is nice today.\",\n",
    "    \"Neural networks are a type of machine learning model.\",\n",
    "    \"I enjoy reading science books.\",\n",
    "]\n",
    "\n",
    "# Generate embeddings for multiple texts\n",
    "response = client.embeddings.create(\n",
    "    model=\"mlx-community/all-MiniLM-L6-v2-4bit\", input=texts\n",
    ")\n",
    "\n",
    "# Create a list of embeddings\n",
    "embeddings = [item.embedding for item in response.data]\n",
    "print(f\"Generated {len(embeddings)} embeddings of dimension {len(embeddings[0])}\")"
   ]
  },
  {
   "cell_type": "markdown",
   "id": "84585c4d",
   "metadata": {},
   "source": [
    "## Semantic Search Example\n",
    "\n",
    "One of the most common uses of embeddings is semantic search. Let's demonstrate a simple example:"
   ]
  },
  {
   "cell_type": "code",
   "execution_count": 11,
   "id": "0d278726",
   "metadata": {},
   "outputs": [
    {
     "data": {
      "text/html": [
       "<div>\n",
       "<style scoped>\n",
       "    .dataframe tbody tr th:only-of-type {\n",
       "        vertical-align: middle;\n",
       "    }\n",
       "\n",
       "    .dataframe tbody tr th {\n",
       "        vertical-align: top;\n",
       "    }\n",
       "\n",
       "    .dataframe thead th {\n",
       "        text-align: right;\n",
       "    }\n",
       "</style>\n",
       "<table border=\"1\" class=\"dataframe\">\n",
       "  <thead>\n",
       "    <tr style=\"text-align: right;\">\n",
       "      <th></th>\n",
       "      <th>Text</th>\n",
       "      <th>Similarity</th>\n",
       "    </tr>\n",
       "  </thead>\n",
       "  <tbody>\n",
       "    <tr>\n",
       "      <th>0</th>\n",
       "      <td>I like reading fiction books.</td>\n",
       "      <td>0.916941</td>\n",
       "    </tr>\n",
       "    <tr>\n",
       "      <th>3</th>\n",
       "      <td>I enjoy reading science books.</td>\n",
       "      <td>0.815611</td>\n",
       "    </tr>\n",
       "    <tr>\n",
       "      <th>2</th>\n",
       "      <td>Neural networks are a type of machine learning...</td>\n",
       "      <td>0.781193</td>\n",
       "    </tr>\n",
       "    <tr>\n",
       "      <th>1</th>\n",
       "      <td>The weather is nice today.</td>\n",
       "      <td>0.759635</td>\n",
       "    </tr>\n",
       "  </tbody>\n",
       "</table>\n",
       "</div>"
      ],
      "text/plain": [
       "                                                Text  Similarity\n",
       "0                      I like reading fiction books.    0.916941\n",
       "3                     I enjoy reading science books.    0.815611\n",
       "2  Neural networks are a type of machine learning...    0.781193\n",
       "1                         The weather is nice today.    0.759635"
      ]
     },
     "execution_count": 11,
     "metadata": {},
     "output_type": "execute_result"
    }
   ],
   "source": [
    "# Convert embeddings to numpy arrays for easier manipulation\n",
    "embeddings_np = np.array(embeddings)\n",
    "\n",
    "# Generate embedding for a query\n",
    "query = \"I love to read books\"\n",
    "query_response = client.embeddings.create(\n",
    "    model=\"mlx-community/all-MiniLM-L6-v2-4bit\", input=query\n",
    ")\n",
    "query_embedding = np.array(query_response.data[0].embedding)\n",
    "\n",
    "# Calculate cosine similarity between the query and all texts\n",
    "similarities = cosine_similarity([query_embedding], embeddings_np)[0]\n",
    "\n",
    "# Create a DataFrame to display results\n",
    "results = pd.DataFrame({\"Text\": texts, \"Similarity\": similarities})\n",
    "\n",
    "# Sort by similarity (highest first)\n",
    "results = results.sort_values(\"Similarity\", ascending=False)\n",
    "results"
   ]
  },
  {
   "cell_type": "markdown",
   "id": "bdda2e9e",
   "metadata": {},
   "source": [
    "## Text Clustering Example\n",
    "\n",
    "Let's try clustering similar texts using their embeddings."
   ]
  },
  {
   "cell_type": "code",
   "execution_count": 12,
   "id": "ce04f362",
   "metadata": {},
   "outputs": [
    {
     "data": {
      "image/png": "[encoded data removed]",
      "text/plain": [
       "<Figure size 800x600 with 2 Axes>"
      ]
     },
     "metadata": {},
     "output_type": "display_data"
    }
   ],
   "source": [
    "# Generate a similarity matrix\n",
    "similarity_matrix = cosine_similarity(embeddings_np)\n",
    "\n",
    "# Visualize the similarity matrix\n",
    "plt.figure(figsize=(8, 6))\n",
    "plt.imshow(similarity_matrix, cmap=\"viridis\")\n",
    "plt.colorbar(label=\"Cosine Similarity\")\n",
    "plt.title(\"Text Similarity Matrix\")\n",
    "plt.xticks(range(len(texts)), [f\"Text {i+1}\" for i in range(len(texts))], rotation=45)\n",
    "plt.yticks(range(len(texts)), [f\"Text {i+1}\" for i in range(len(texts))])\n",
    "for i in range(len(texts)):\n",
    "    for j in range(len(texts)):\n",
    "        plt.text(\n",
    "            j,\n",
    "            i,\n",
    "            f\"{similarity_matrix[i, j]:.2f}\",\n",
    "            ha=\"center\",\n",
    "            va=\"center\",\n",
    "            color=\"white\" if similarity_matrix[i, j] < 0.7 else \"black\",\n",
    "        )\n",
    "plt.tight_layout()\n",
    "plt.show()"
   ]
  },
  {
   "cell_type": "code",
   "execution_count": null,
   "id": "025b5d5e",
   "metadata": {},
   "outputs": [],
   "source": []
  }
 ],
 "metadata": {
  "kernelspec": {
   "display_name": "mlxomni",
   "language": "python",
   "name": "python3"
  },
  "language_info": {
   "codemirror_mode": {
    "name": "ipython",
    "version": 3
   },
   "file_extension": ".py",
   "mimetype": "text/x-python",
   "name": "python",
   "nbconvert_exporter": "python",
   "pygments_lexer": "ipython3",
   "version": "3.12.9"
  }
 },
 "nbformat": 4,
 "nbformat_minor": 5
}
